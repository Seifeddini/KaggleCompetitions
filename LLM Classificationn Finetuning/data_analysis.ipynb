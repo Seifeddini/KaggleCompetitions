{
 "cells": [
  {
   "cell_type": "markdown",
   "metadata": {},
   "source": [
    "# Data Analysis\n"
   ]
  },
  {
   "cell_type": "markdown",
   "metadata": {},
   "source": [
    "To develop a classifier that can decide which one of two prompts will be prefered by a user we have to identify what data is relevant for a user to like or dislike a text. This data analysis aims to sort out the relevant data for our task. Our goal is to gain more relevant data from the undelying data, since text encodes a lot of information but without further processing it could be really hard for a AI model to predict something based on this information."
   ]
  },
  {
   "cell_type": "markdown",
   "metadata": {},
   "source": [
    "We have the following assumptions to solve the task:\n",
    "- The liking of a text is not random but follows certain patterns\n",
    "- These patterns can be identified through data analysis\n",
    "- The patterns are related to measurable text characteristics\n",
    "- Users have consistent preferences that can be learned\n",
    "- The preferences can be generalized across different texts\n"
   ]
  },
  {
   "cell_type": "markdown",
   "metadata": {},
   "source": [
    "Possibly relevant data: \n",
    "1. Amount of nouns in response\n",
    "2. Amount of adjectives in response\n",
    "3. sentence-sentiment\n",
    "4. amount of words per response\n",
    "5. amount of (., ,, -, !, etc.) in response\n",
    "6. amount of letters per response"
   ]
  },
  {
   "cell_type": "code",
   "execution_count": 15,
   "metadata": {},
   "outputs": [],
   "source": [
    "# Necessary imports\n",
    "import numpy as np\n",
    "import pandas as pd\n",
    "import matplotlib.pyplot as plt\n",
    "import seaborn as sns\n",
    "from scipy import stats\n",
    "from sklearn.preprocessing import StandardScaler\n"
   ]
  },
  {
   "cell_type": "code",
   "execution_count": 16,
   "metadata": {},
   "outputs": [
    {
     "name": "stderr",
     "output_type": "stream",
     "text": [
      "[nltk_data] Downloading package wordnet to\n",
      "[nltk_data]     C:\\Users\\siran\\AppData\\Roaming\\nltk_data...\n",
      "[nltk_data]   Package wordnet is already up-to-date!\n"
     ]
    },
    {
     "name": "stdout",
     "output_type": "stream",
     "text": [
      "Nouns:  ['climbingfumitory', 'leucothoe', 'secularization', 'solicitorship', 'grapehyacinth', 'perissodactylmammal', 'pinacloth', 'acetylcholine', 'PAGAD', 'dolmanjacket']\n",
      "Adjectives:  ['sequined', 'milklike', 'uncollectible', 'emulous', 'premature', 'intracranial', 'calcifugous', 'ill-starred', 'tubby', 'dogged']\n"
     ]
    }
   ],
   "source": [
    "# Import nouns and adjectives\n",
    "from nltk.corpus import wordnet as wn\n",
    "import nltk\n",
    "\n",
    "# Ensure WordNet is downloaded\n",
    "nltk.download('wordnet')\n",
    "\n",
    "# Function to extract all nouns\n",
    "def get_nouns():\n",
    "    nouns = set()\n",
    "    for synset in wn.all_synsets(pos=wn.NOUN):\n",
    "        for lemma in synset.lemmas():\n",
    "            name = lemma.name()\n",
    "            # Replace underscores with empty string to concatenate words\n",
    "            name = name.replace('_', '')\n",
    "            nouns.add(name)\n",
    "    return nouns\n",
    "\n",
    "# Function to extract all adjectives\n",
    "def get_adjectives():\n",
    "    adjectives = set()\n",
    "    for synset in wn.all_synsets(pos=wn.ADJ):\n",
    "        for lemma in synset.lemmas():\n",
    "            adjectives.add(lemma.name())\n",
    "    return adjectives\n",
    "\n",
    "# Get nouns and adjectives\n",
    "nouns = get_nouns()\n",
    "adjectives = get_adjectives()\n",
    "\n",
    "print(\"Nouns: \", list(nouns)[:10])\n",
    "print(\"Adjectives: \", list(adjectives)[:10])"
   ]
  },
  {
   "cell_type": "code",
   "execution_count": 17,
   "metadata": {},
   "outputs": [
    {
     "name": "stdout",
     "output_type": "stream",
     "text": [
      "Training dataset shape: (57477, 9)\n",
      "Test dataset shape: (3, 4)\n",
      "Dataset columns: Index(['id', 'model_a', 'model_b', 'prompt', 'response_a', 'response_b',\n",
      "       'winner_model_a', 'winner_model_b', 'winner_tie'],\n",
      "      dtype='object')\n"
     ]
    }
   ],
   "source": [
    "# Load the different datasets\n",
    "df_train = pd.read_csv('../Data/LLM Classification Finetuning/train.csv')\n",
    "df_test = pd.read_csv('../Data/LLM Classification Finetuning/test.csv')\n",
    "\n",
    "# Display basic information about the datasets\n",
    "print(\"Training dataset shape:\", df_train.shape)\n",
    "print(\"Test dataset shape:\", df_test.shape) \n",
    "print(\"Dataset columns:\", df_train.columns)\n"
   ]
  },
  {
   "cell_type": "markdown",
   "metadata": {},
   "source": [
    "## 1. Amount of nouns in response"
   ]
  },
  {
   "cell_type": "code",
   "execution_count": 18,
   "metadata": {},
   "outputs": [],
   "source": [
    "def count_nouns(sentence):\n",
    "    words = sentence.split(\" \")\n",
    "    count = 0\n",
    "    for word in words:\n",
    "        if word.lower() in nouns:\n",
    "            count += 1\n",
    "    return count\n",
    "\n",
    "    \n",
    "def count_nouns_rows(row):\n",
    "    a_count = count_nouns(row[\"response_a\"])\n",
    "    b_count = count_nouns(row[\"response_b\"])\n",
    "    return a_count, b_count\n"
   ]
  },
  {
   "cell_type": "code",
   "execution_count": 19,
   "metadata": {},
   "outputs": [],
   "source": [
    "# The apply function returns a Series/array, need to convert to separate columns\n",
    "counts = df_train.apply(count_nouns_rows, axis=1)\n",
    "df_train[\"noun_count_a\"] = [x[0] for x in counts]\n",
    "df_train[\"noun_count_b\"] = [x[1] for x in counts]"
   ]
  },
  {
   "cell_type": "code",
   "execution_count": 1,
   "metadata": {},
   "outputs": [
    {
     "ename": "NameError",
     "evalue": "name 'df_train' is not defined",
     "output_type": "error",
     "traceback": [
      "\u001b[1;31m---------------------------------------------------------------------------\u001b[0m",
      "\u001b[1;31mNameError\u001b[0m                                 Traceback (most recent call last)",
      "Cell \u001b[1;32mIn[1], line 5\u001b[0m\n\u001b[0;32m      2\u001b[0m winning_nouns \u001b[38;5;241m=\u001b[39m []\n\u001b[0;32m      3\u001b[0m losing_nouns \u001b[38;5;241m=\u001b[39m []\n\u001b[1;32m----> 5\u001b[0m \u001b[38;5;28;01mfor\u001b[39;00m _, row \u001b[38;5;129;01min\u001b[39;00m \u001b[43mdf_train\u001b[49m\u001b[38;5;241m.\u001b[39miterrows():\n\u001b[0;32m      6\u001b[0m     \u001b[38;5;28;01mif\u001b[39;00m row[\u001b[38;5;124m'\u001b[39m\u001b[38;5;124mwinner_model_a\u001b[39m\u001b[38;5;124m'\u001b[39m] \u001b[38;5;241m==\u001b[39m \u001b[38;5;241m1\u001b[39m:\n\u001b[0;32m      7\u001b[0m         winning_nouns\u001b[38;5;241m.\u001b[39mappend(row[\u001b[38;5;124m'\u001b[39m\u001b[38;5;124mnoun_count_a\u001b[39m\u001b[38;5;124m'\u001b[39m])\n",
      "\u001b[1;31mNameError\u001b[0m: name 'df_train' is not defined"
     ]
    }
   ],
   "source": [
    "# Perform t-test to compare noun counts between winning and losing responses\n",
    "winning_nouns = []\n",
    "losing_nouns = []\n",
    "\n",
    "for _, row in df_train.iterrows():\n",
    "    if row['winner_model_a'] == 1:\n",
    "        winning_nouns.append(row['noun_count_a'])\n",
    "        losing_nouns.append(row['noun_count_b'])\n",
    "    elif row['winner_model_b'] == 1:\n",
    "        winning_nouns.append(row['noun_count_b'])\n",
    "        losing_nouns.append(row['noun_count_a'])\n",
    "\n",
    "from scipy import stats\n",
    "t_stat, p_value = stats.ttest_ind(winning_nouns, losing_nouns)\n",
    "\n",
    "print(\"T-test Results for Noun Counts:\")\n",
    "print(f\"t-statistic: {t_stat:.4f}\")\n",
    "print(f\"p-value: {p_value:.4f}\")\n",
    "print(\"\\nMean noun count in winning responses:\", f\"{np.mean(winning_nouns):.2f}\")\n",
    "print(\"Mean noun count in losing responses:\", f\"{np.mean(losing_nouns):.2f}\")"
   ]
  },
  {
   "cell_type": "markdown",
   "metadata": {},
   "source": [
    "## Amount of adjectives in response"
   ]
  },
  {
   "cell_type": "code",
   "execution_count": 22,
   "metadata": {},
   "outputs": [],
   "source": [
    "## Amount of adjectives in response\n",
    "def count_adjectives(sentence:str):\n",
    "    words = sentence.split(\" \")\n",
    "    count = 0\n",
    "    if len(words) > 0:\n",
    "        for word in words:\n",
    "            if word.lower() in nouns:\n",
    "                count += 1\n",
    "    return count\n",
    "\n",
    "def count_adjectives_row(row):\n",
    "    a_count = count_adjectives(row[\"response_a\"])\n",
    "    b_count = count_adjectives(row[\"response_b\"])\n",
    "    return a_count, b_count"
   ]
  },
  {
   "cell_type": "code",
   "execution_count": 23,
   "metadata": {},
   "outputs": [],
   "source": [
    "counts = df_train.apply(count_adjectives_row, axis=1)\n",
    "df_train[\"adj_count_a\"] = [x[0] for x in counts]\n",
    "df_train[\"adj_count_b\"] = [x[1] for x in counts]"
   ]
  },
  {
   "cell_type": "code",
   "execution_count": 24,
   "metadata": {},
   "outputs": [
    {
     "data": {
      "text/html": [
       "<div>\n",
       "<style scoped>\n",
       "    .dataframe tbody tr th:only-of-type {\n",
       "        vertical-align: middle;\n",
       "    }\n",
       "\n",
       "    .dataframe tbody tr th {\n",
       "        vertical-align: top;\n",
       "    }\n",
       "\n",
       "    .dataframe thead th {\n",
       "        text-align: right;\n",
       "    }\n",
       "</style>\n",
       "<table border=\"1\" class=\"dataframe\">\n",
       "  <thead>\n",
       "    <tr style=\"text-align: right;\">\n",
       "      <th></th>\n",
       "      <th>id</th>\n",
       "      <th>model_a</th>\n",
       "      <th>model_b</th>\n",
       "      <th>prompt</th>\n",
       "      <th>response_a</th>\n",
       "      <th>response_b</th>\n",
       "      <th>winner_model_a</th>\n",
       "      <th>winner_model_b</th>\n",
       "      <th>winner_tie</th>\n",
       "      <th>noun_count_a</th>\n",
       "      <th>noun_count_b</th>\n",
       "      <th>adj_count_a</th>\n",
       "      <th>adj_count_b</th>\n",
       "    </tr>\n",
       "  </thead>\n",
       "  <tbody>\n",
       "    <tr>\n",
       "      <th>0</th>\n",
       "      <td>30192</td>\n",
       "      <td>gpt-4-1106-preview</td>\n",
       "      <td>gpt-4-0613</td>\n",
       "      <td>[\"Is it morally right to try to have a certain...</td>\n",
       "      <td>[\"The question of whether it is morally right ...</td>\n",
       "      <td>[\"As an AI, I don't have personal beliefs or o...</td>\n",
       "      <td>1</td>\n",
       "      <td>0</td>\n",
       "      <td>0</td>\n",
       "      <td>217</td>\n",
       "      <td>61</td>\n",
       "      <td>217</td>\n",
       "      <td>61</td>\n",
       "    </tr>\n",
       "    <tr>\n",
       "      <th>1</th>\n",
       "      <td>53567</td>\n",
       "      <td>koala-13b</td>\n",
       "      <td>gpt-4-0613</td>\n",
       "      <td>[\"What is the difference between marriage lice...</td>\n",
       "      <td>[\"A marriage license is a legal document that ...</td>\n",
       "      <td>[\"A marriage license and a marriage certificat...</td>\n",
       "      <td>0</td>\n",
       "      <td>1</td>\n",
       "      <td>0</td>\n",
       "      <td>213</td>\n",
       "      <td>203</td>\n",
       "      <td>213</td>\n",
       "      <td>203</td>\n",
       "    </tr>\n",
       "  </tbody>\n",
       "</table>\n",
       "</div>"
      ],
      "text/plain": [
       "      id             model_a     model_b  \\\n",
       "0  30192  gpt-4-1106-preview  gpt-4-0613   \n",
       "1  53567           koala-13b  gpt-4-0613   \n",
       "\n",
       "                                              prompt  \\\n",
       "0  [\"Is it morally right to try to have a certain...   \n",
       "1  [\"What is the difference between marriage lice...   \n",
       "\n",
       "                                          response_a  \\\n",
       "0  [\"The question of whether it is morally right ...   \n",
       "1  [\"A marriage license is a legal document that ...   \n",
       "\n",
       "                                          response_b  winner_model_a  \\\n",
       "0  [\"As an AI, I don't have personal beliefs or o...               1   \n",
       "1  [\"A marriage license and a marriage certificat...               0   \n",
       "\n",
       "   winner_model_b  winner_tie  noun_count_a  noun_count_b  adj_count_a  \\\n",
       "0               0           0           217            61          217   \n",
       "1               1           0           213           203          213   \n",
       "\n",
       "   adj_count_b  \n",
       "0           61  \n",
       "1          203  "
      ]
     },
     "execution_count": 24,
     "metadata": {},
     "output_type": "execute_result"
    }
   ],
   "source": [
    "df_train[:2]"
   ]
  },
  {
   "cell_type": "code",
   "execution_count": null,
   "metadata": {},
   "outputs": [],
   "source": []
  }
 ],
 "metadata": {
  "kernelspec": {
   "display_name": "Python 3",
   "language": "python",
   "name": "python3"
  },
  "language_info": {
   "codemirror_mode": {
    "name": "ipython",
    "version": 3
   },
   "file_extension": ".py",
   "mimetype": "text/x-python",
   "name": "python",
   "nbconvert_exporter": "python",
   "pygments_lexer": "ipython3",
   "version": "3.13.2"
  }
 },
 "nbformat": 4,
 "nbformat_minor": 2
}
