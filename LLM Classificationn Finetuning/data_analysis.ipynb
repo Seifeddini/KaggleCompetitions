{
 "cells": [
  {
   "cell_type": "markdown",
   "metadata": {},
   "source": [
    "# Data Analysis\n"
   ]
  },
  {
   "cell_type": "markdown",
   "metadata": {},
   "source": [
    "To develop a classifier that can decide which one of two prompts will be prefered by a user we have to identify what data is relevant for a user to like or dislike a text. This data analysis aims to sort out the relevant data for our task."
   ]
  },
  {
   "cell_type": "markdown",
   "metadata": {},
   "source": [
    "We have the following assumptions to solve the task:\n",
    "- The liking of a text is not random but follows certain patterns\n",
    "- These patterns can be identified through data analysis\n",
    "- The patterns are related to measurable text characteristics\n",
    "- Users have consistent preferences that can be learned\n",
    "- The preferences can be generalized across different texts\n"
   ]
  },
  {
   "cell_type": "markdown",
   "metadata": {},
   "source": [
    "Possibly relevant data: \n",
    "1. Amount of nouns in response\n",
    "2. Amount of adjectives in response\n",
    "3. sentence-sentiment\n",
    "4. amount of words per response\n",
    "5. amount of (., ,, -, !, etc.) in response\n",
    "6. amount of letters per response"
   ]
  },
  {
   "cell_type": "code",
   "execution_count": 2,
   "metadata": {},
   "outputs": [],
   "source": [
    "# Necessary imports\n",
    "import numpy as np\n",
    "import pandas as pd\n",
    "import matplotlib.pyplot as plt\n",
    "import seaborn as sns\n",
    "from scipy import stats\n",
    "from sklearn.preprocessing import StandardScaler\n"
   ]
  },
  {
   "cell_type": "code",
   "execution_count": 14,
   "metadata": {},
   "outputs": [
    {
     "name": "stderr",
     "output_type": "stream",
     "text": [
      "[nltk_data] Downloading package wordnet to\n",
      "[nltk_data]     C:\\Users\\siran\\AppData\\Roaming\\nltk_data...\n"
     ]
    }
   ],
   "source": [
    "# Import nouns and adjectives\n",
    "from nltk.corpus import wordnet as wn\n",
    "import nltk\n",
    "\n",
    "# Ensure WordNet is downloaded\n",
    "nltk.download('wordnet')\n",
    "\n",
    "# Function to extract all nouns\n",
    "def get_nouns():\n",
    "    nouns = set()\n",
    "    for synset in wn.all_synsets(pos=wn.NOUN):\n",
    "        for lemma in synset.lemmas():\n",
    "            name = lemma.name()\n",
    "            # Replace underscores with empty string to concatenate words\n",
    "            name = name.replace('_', '')\n",
    "            nouns.add(name)\n",
    "    return nouns\n",
    "\n",
    "# Function to extract all adjectives\n",
    "def get_adjectives():\n",
    "    adjectives = set()\n",
    "    for synset in wn.all_synsets(pos=wn.ADJ):\n",
    "        for lemma in synset.lemmas():\n",
    "            adjectives.add(lemma.name())\n",
    "    return adjectives\n",
    "\n",
    "# Get nouns and adjectives\n",
    "nouns = get_nouns()\n",
    "adjectives = get_adjectives()\n",
    "\n",
    "print(\"Nouns: \", list(nouns)[:10])\n",
    "print(\"Adjectives: \", list(adjectives)[:10])"
   ]
  },
  {
   "cell_type": "code",
   "execution_count": 4,
   "metadata": {},
   "outputs": [
    {
     "name": "stdout",
     "output_type": "stream",
     "text": [
      "Training dataset shape: (57477, 9)\n",
      "Test dataset shape: (3, 4)\n",
      "Dataset columns: Index(['id', 'model_a', 'model_b', 'prompt', 'response_a', 'response_b',\n",
      "       'winner_model_a', 'winner_model_b', 'winner_tie'],\n",
      "      dtype='object')\n"
     ]
    }
   ],
   "source": [
    "# Load the different datasets\n",
    "df_train = pd.read_csv('../Data/LLM Classification Finetuning/train.csv')\n",
    "df_test = pd.read_csv('../Data/LLM Classification Finetuning/test.csv')\n",
    "\n",
    "# Display basic information about the datasets\n",
    "print(\"Training dataset shape:\", df_train.shape)\n",
    "print(\"Test dataset shape:\", df_test.shape) \n",
    "print(\"Dataset columns:\", df_train.columns)\n"
   ]
  },
  {
   "cell_type": "markdown",
   "metadata": {},
   "source": [
    "## 1. Amount of nouns in response"
   ]
  },
  {
   "cell_type": "code",
   "execution_count": 32,
   "metadata": {},
   "outputs": [],
   "source": [
    "def count_nouns(sentence):\n",
    "    words = sentence.split(\" \")\n",
    "    count = 0\n",
    "    for word in words:\n",
    "        if word.lower() in nouns:\n",
    "            count += 1\n",
    "    return count\n",
    "\n",
    "    \n",
    "def count_nouns_rows(row):\n",
    "    a_count = count_nouns(row[\"response_a\"])\n",
    "    b_count = count_nouns(row[\"response_b\"])\n",
    "    return a_count, b_count\n"
   ]
  },
  {
   "cell_type": "code",
   "execution_count": 35,
   "metadata": {},
   "outputs": [],
   "source": [
    "# The apply function returns a Series/array, need to convert to separate columns\n",
    "counts = df_train.apply(count_nouns_rows, axis=1)\n",
    "df_train[\"count_a\"] = [x[0] for x in counts]\n",
    "df_train[\"count_b\"] = [x[1] for x in counts]"
   ]
  },
  {
   "cell_type": "code",
   "execution_count": 37,
   "metadata": {},
   "outputs": [
    {
     "name": "stdout",
     "output_type": "stream",
     "text": [
      "      id             model_a         model_b  \\\n",
      "0  30192  gpt-4-1106-preview      gpt-4-0613   \n",
      "1  53567           koala-13b      gpt-4-0613   \n",
      "2  65089  gpt-3.5-turbo-0613  mistral-medium   \n",
      "\n",
      "                                              prompt  \\\n",
      "0  [\"Is it morally right to try to have a certain...   \n",
      "1  [\"What is the difference between marriage lice...   \n",
      "2  [\"explain function calling. how would you call...   \n",
      "\n",
      "                                          response_a  \\\n",
      "0  [\"The question of whether it is morally right ...   \n",
      "1  [\"A marriage license is a legal document that ...   \n",
      "2  [\"Function calling is the process of invoking ...   \n",
      "\n",
      "                                          response_b  winner_model_a  \\\n",
      "0  [\"As an AI, I don't have personal beliefs or o...               1   \n",
      "1  [\"A marriage license and a marriage certificat...               0   \n",
      "2  [\"Function calling is the process of invoking ...               0   \n",
      "\n",
      "   winner_model_b  winner_tie  count_a  count_b  \n",
      "0               0           0      216       61  \n",
      "1               1           0      213      203  \n",
      "2               0           1       46       77  \n"
     ]
    }
   ],
   "source": [
    "print(df_train[:3])"
   ]
  },
  {
   "cell_type": "code",
   "execution_count": null,
   "metadata": {},
   "outputs": [],
   "source": [
    "# TODO model: amount of nouns ; answer prefered"
   ]
  }
 ],
 "metadata": {
  "kernelspec": {
   "display_name": "Python 3",
   "language": "python",
   "name": "python3"
  },
  "language_info": {
   "codemirror_mode": {
    "name": "ipython",
    "version": 3
   },
   "file_extension": ".py",
   "mimetype": "text/x-python",
   "name": "python",
   "nbconvert_exporter": "python",
   "pygments_lexer": "ipython3",
   "version": "3.13.2"
  }
 },
 "nbformat": 4,
 "nbformat_minor": 2
}
